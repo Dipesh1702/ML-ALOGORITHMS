{
 "cells": [
  {
   "cell_type": "code",
   "execution_count": 1,
   "id": "7e37a277",
   "metadata": {
    "_cell_guid": "b1076dfc-b9ad-4769-8c92-a6c4dae69d19",
    "_uuid": "8f2839f25d086af736a60e9eeb907d3b93b6e0e5",
    "execution": {
     "iopub.execute_input": "2024-01-23T11:34:36.350620Z",
     "iopub.status.busy": "2024-01-23T11:34:36.350113Z",
     "iopub.status.idle": "2024-01-23T11:34:36.791060Z",
     "shell.execute_reply": "2024-01-23T11:34:36.789595Z"
    },
    "papermill": {
     "duration": 0.454427,
     "end_time": "2024-01-23T11:34:36.793608",
     "exception": false,
     "start_time": "2024-01-23T11:34:36.339181",
     "status": "completed"
    },
    "tags": []
   },
   "outputs": [
    {
     "name": "stdout",
     "output_type": "stream",
     "text": [
      "/kaggle/input/canada-per-capital-income/canada_per_capita_income.csv\n"
     ]
    }
   ],
   "source": [
    "# This Python 3 environment comes with many helpful analytics libraries installed\n",
    "# It is defined by the kaggle/python Docker image: https://github.com/kaggle/docker-python\n",
    "# For example, here's several helpful packages to load\n",
    "\n",
    "import numpy as np # linear algebra\n",
    "import pandas as pd # data processing, CSV file I/O (e.g. pd.read_csv)\n",
    "\n",
    "# Input data files are available in the read-only \"../input/\" directory\n",
    "# For example, running this (by clicking run or pressing Shift+Enter) will list all files under the input directory\n",
    "\n",
    "import os\n",
    "for dirname, _, filenames in os.walk('/kaggle/input'):\n",
    "    for filename in filenames:\n",
    "        print(os.path.join(dirname, filename))\n",
    "\n",
    "# You can write up to 20GB to the current directory (/kaggle/working/) that gets preserved as output when you create a version using \"Save & Run All\" \n",
    "# You can also write temporary files to /kaggle/temp/, but they won't be saved outside of the current session"
   ]
  },
  {
   "cell_type": "code",
   "execution_count": 2,
   "id": "1f545c6b",
   "metadata": {
    "execution": {
     "iopub.execute_input": "2024-01-23T11:34:36.812021Z",
     "iopub.status.busy": "2024-01-23T11:34:36.811475Z",
     "iopub.status.idle": "2024-01-23T11:34:36.816539Z",
     "shell.execute_reply": "2024-01-23T11:34:36.815461Z"
    },
    "papermill": {
     "duration": 0.017141,
     "end_time": "2024-01-23T11:34:36.818969",
     "exception": false,
     "start_time": "2024-01-23T11:34:36.801828",
     "status": "completed"
    },
    "tags": []
   },
   "outputs": [],
   "source": [
    "import pandas as pd\n",
    "import numpy as np\n",
    "import matplotlib.pyplot as plt"
   ]
  },
  {
   "cell_type": "code",
   "execution_count": 3,
   "id": "8d597804",
   "metadata": {
    "execution": {
     "iopub.execute_input": "2024-01-23T11:34:36.836637Z",
     "iopub.status.busy": "2024-01-23T11:34:36.836215Z",
     "iopub.status.idle": "2024-01-23T11:34:36.860200Z",
     "shell.execute_reply": "2024-01-23T11:34:36.858989Z"
    },
    "papermill": {
     "duration": 0.035933,
     "end_time": "2024-01-23T11:34:36.862926",
     "exception": false,
     "start_time": "2024-01-23T11:34:36.826993",
     "status": "completed"
    },
    "tags": []
   },
   "outputs": [],
   "source": [
    "df=pd.read_csv('/kaggle/input/canada-per-capital-income/canada_per_capita_income.csv')"
   ]
  },
  {
   "cell_type": "code",
   "execution_count": 4,
   "id": "547ac454",
   "metadata": {
    "execution": {
     "iopub.execute_input": "2024-01-23T11:34:36.881223Z",
     "iopub.status.busy": "2024-01-23T11:34:36.880835Z",
     "iopub.status.idle": "2024-01-23T11:34:36.907569Z",
     "shell.execute_reply": "2024-01-23T11:34:36.906423Z"
    },
    "papermill": {
     "duration": 0.039208,
     "end_time": "2024-01-23T11:34:36.910513",
     "exception": false,
     "start_time": "2024-01-23T11:34:36.871305",
     "status": "completed"
    },
    "tags": []
   },
   "outputs": [
    {
     "data": {
      "text/html": [
       "<div>\n",
       "<style scoped>\n",
       "    .dataframe tbody tr th:only-of-type {\n",
       "        vertical-align: middle;\n",
       "    }\n",
       "\n",
       "    .dataframe tbody tr th {\n",
       "        vertical-align: top;\n",
       "    }\n",
       "\n",
       "    .dataframe thead th {\n",
       "        text-align: right;\n",
       "    }\n",
       "</style>\n",
       "<table border=\"1\" class=\"dataframe\">\n",
       "  <thead>\n",
       "    <tr style=\"text-align: right;\">\n",
       "      <th></th>\n",
       "      <th>year</th>\n",
       "      <th>per capita income (US$)</th>\n",
       "    </tr>\n",
       "  </thead>\n",
       "  <tbody>\n",
       "    <tr>\n",
       "      <th>0</th>\n",
       "      <td>1970</td>\n",
       "      <td>3399.299037</td>\n",
       "    </tr>\n",
       "    <tr>\n",
       "      <th>1</th>\n",
       "      <td>1971</td>\n",
       "      <td>3768.297935</td>\n",
       "    </tr>\n",
       "    <tr>\n",
       "      <th>2</th>\n",
       "      <td>1972</td>\n",
       "      <td>4251.175484</td>\n",
       "    </tr>\n",
       "    <tr>\n",
       "      <th>3</th>\n",
       "      <td>1973</td>\n",
       "      <td>4804.463248</td>\n",
       "    </tr>\n",
       "    <tr>\n",
       "      <th>4</th>\n",
       "      <td>1974</td>\n",
       "      <td>5576.514583</td>\n",
       "    </tr>\n",
       "    <tr>\n",
       "      <th>5</th>\n",
       "      <td>1975</td>\n",
       "      <td>5998.144346</td>\n",
       "    </tr>\n",
       "    <tr>\n",
       "      <th>6</th>\n",
       "      <td>1976</td>\n",
       "      <td>7062.131392</td>\n",
       "    </tr>\n",
       "    <tr>\n",
       "      <th>7</th>\n",
       "      <td>1977</td>\n",
       "      <td>7100.126170</td>\n",
       "    </tr>\n",
       "    <tr>\n",
       "      <th>8</th>\n",
       "      <td>1978</td>\n",
       "      <td>7247.967035</td>\n",
       "    </tr>\n",
       "    <tr>\n",
       "      <th>9</th>\n",
       "      <td>1979</td>\n",
       "      <td>7602.912681</td>\n",
       "    </tr>\n",
       "    <tr>\n",
       "      <th>10</th>\n",
       "      <td>1980</td>\n",
       "      <td>8355.968120</td>\n",
       "    </tr>\n",
       "    <tr>\n",
       "      <th>11</th>\n",
       "      <td>1981</td>\n",
       "      <td>9434.390652</td>\n",
       "    </tr>\n",
       "    <tr>\n",
       "      <th>12</th>\n",
       "      <td>1982</td>\n",
       "      <td>9619.438377</td>\n",
       "    </tr>\n",
       "    <tr>\n",
       "      <th>13</th>\n",
       "      <td>1983</td>\n",
       "      <td>10416.536590</td>\n",
       "    </tr>\n",
       "    <tr>\n",
       "      <th>14</th>\n",
       "      <td>1984</td>\n",
       "      <td>10790.328720</td>\n",
       "    </tr>\n",
       "    <tr>\n",
       "      <th>15</th>\n",
       "      <td>1985</td>\n",
       "      <td>11018.955850</td>\n",
       "    </tr>\n",
       "    <tr>\n",
       "      <th>16</th>\n",
       "      <td>1986</td>\n",
       "      <td>11482.891530</td>\n",
       "    </tr>\n",
       "    <tr>\n",
       "      <th>17</th>\n",
       "      <td>1987</td>\n",
       "      <td>12974.806620</td>\n",
       "    </tr>\n",
       "    <tr>\n",
       "      <th>18</th>\n",
       "      <td>1988</td>\n",
       "      <td>15080.283450</td>\n",
       "    </tr>\n",
       "    <tr>\n",
       "      <th>19</th>\n",
       "      <td>1989</td>\n",
       "      <td>16426.725480</td>\n",
       "    </tr>\n",
       "    <tr>\n",
       "      <th>20</th>\n",
       "      <td>1990</td>\n",
       "      <td>16838.673200</td>\n",
       "    </tr>\n",
       "    <tr>\n",
       "      <th>21</th>\n",
       "      <td>1991</td>\n",
       "      <td>17266.097690</td>\n",
       "    </tr>\n",
       "    <tr>\n",
       "      <th>22</th>\n",
       "      <td>1992</td>\n",
       "      <td>16412.083090</td>\n",
       "    </tr>\n",
       "    <tr>\n",
       "      <th>23</th>\n",
       "      <td>1993</td>\n",
       "      <td>15875.586730</td>\n",
       "    </tr>\n",
       "    <tr>\n",
       "      <th>24</th>\n",
       "      <td>1994</td>\n",
       "      <td>15755.820270</td>\n",
       "    </tr>\n",
       "    <tr>\n",
       "      <th>25</th>\n",
       "      <td>1995</td>\n",
       "      <td>16369.317250</td>\n",
       "    </tr>\n",
       "    <tr>\n",
       "      <th>26</th>\n",
       "      <td>1996</td>\n",
       "      <td>16699.826680</td>\n",
       "    </tr>\n",
       "    <tr>\n",
       "      <th>27</th>\n",
       "      <td>1997</td>\n",
       "      <td>17310.757750</td>\n",
       "    </tr>\n",
       "    <tr>\n",
       "      <th>28</th>\n",
       "      <td>1998</td>\n",
       "      <td>16622.671870</td>\n",
       "    </tr>\n",
       "    <tr>\n",
       "      <th>29</th>\n",
       "      <td>1999</td>\n",
       "      <td>17581.024140</td>\n",
       "    </tr>\n",
       "    <tr>\n",
       "      <th>30</th>\n",
       "      <td>2000</td>\n",
       "      <td>18987.382410</td>\n",
       "    </tr>\n",
       "    <tr>\n",
       "      <th>31</th>\n",
       "      <td>2001</td>\n",
       "      <td>18601.397240</td>\n",
       "    </tr>\n",
       "    <tr>\n",
       "      <th>32</th>\n",
       "      <td>2002</td>\n",
       "      <td>19232.175560</td>\n",
       "    </tr>\n",
       "    <tr>\n",
       "      <th>33</th>\n",
       "      <td>2003</td>\n",
       "      <td>22739.426280</td>\n",
       "    </tr>\n",
       "    <tr>\n",
       "      <th>34</th>\n",
       "      <td>2004</td>\n",
       "      <td>25719.147150</td>\n",
       "    </tr>\n",
       "    <tr>\n",
       "      <th>35</th>\n",
       "      <td>2005</td>\n",
       "      <td>29198.055690</td>\n",
       "    </tr>\n",
       "    <tr>\n",
       "      <th>36</th>\n",
       "      <td>2006</td>\n",
       "      <td>32738.262900</td>\n",
       "    </tr>\n",
       "    <tr>\n",
       "      <th>37</th>\n",
       "      <td>2007</td>\n",
       "      <td>36144.481220</td>\n",
       "    </tr>\n",
       "    <tr>\n",
       "      <th>38</th>\n",
       "      <td>2008</td>\n",
       "      <td>37446.486090</td>\n",
       "    </tr>\n",
       "    <tr>\n",
       "      <th>39</th>\n",
       "      <td>2009</td>\n",
       "      <td>32755.176820</td>\n",
       "    </tr>\n",
       "    <tr>\n",
       "      <th>40</th>\n",
       "      <td>2010</td>\n",
       "      <td>38420.522890</td>\n",
       "    </tr>\n",
       "    <tr>\n",
       "      <th>41</th>\n",
       "      <td>2011</td>\n",
       "      <td>42334.711210</td>\n",
       "    </tr>\n",
       "    <tr>\n",
       "      <th>42</th>\n",
       "      <td>2012</td>\n",
       "      <td>42665.255970</td>\n",
       "    </tr>\n",
       "    <tr>\n",
       "      <th>43</th>\n",
       "      <td>2013</td>\n",
       "      <td>42676.468370</td>\n",
       "    </tr>\n",
       "    <tr>\n",
       "      <th>44</th>\n",
       "      <td>2014</td>\n",
       "      <td>41039.893600</td>\n",
       "    </tr>\n",
       "    <tr>\n",
       "      <th>45</th>\n",
       "      <td>2015</td>\n",
       "      <td>35175.188980</td>\n",
       "    </tr>\n",
       "    <tr>\n",
       "      <th>46</th>\n",
       "      <td>2016</td>\n",
       "      <td>34229.193630</td>\n",
       "    </tr>\n",
       "  </tbody>\n",
       "</table>\n",
       "</div>"
      ],
      "text/plain": [
       "    year  per capita income (US$)\n",
       "0   1970              3399.299037\n",
       "1   1971              3768.297935\n",
       "2   1972              4251.175484\n",
       "3   1973              4804.463248\n",
       "4   1974              5576.514583\n",
       "5   1975              5998.144346\n",
       "6   1976              7062.131392\n",
       "7   1977              7100.126170\n",
       "8   1978              7247.967035\n",
       "9   1979              7602.912681\n",
       "10  1980              8355.968120\n",
       "11  1981              9434.390652\n",
       "12  1982              9619.438377\n",
       "13  1983             10416.536590\n",
       "14  1984             10790.328720\n",
       "15  1985             11018.955850\n",
       "16  1986             11482.891530\n",
       "17  1987             12974.806620\n",
       "18  1988             15080.283450\n",
       "19  1989             16426.725480\n",
       "20  1990             16838.673200\n",
       "21  1991             17266.097690\n",
       "22  1992             16412.083090\n",
       "23  1993             15875.586730\n",
       "24  1994             15755.820270\n",
       "25  1995             16369.317250\n",
       "26  1996             16699.826680\n",
       "27  1997             17310.757750\n",
       "28  1998             16622.671870\n",
       "29  1999             17581.024140\n",
       "30  2000             18987.382410\n",
       "31  2001             18601.397240\n",
       "32  2002             19232.175560\n",
       "33  2003             22739.426280\n",
       "34  2004             25719.147150\n",
       "35  2005             29198.055690\n",
       "36  2006             32738.262900\n",
       "37  2007             36144.481220\n",
       "38  2008             37446.486090\n",
       "39  2009             32755.176820\n",
       "40  2010             38420.522890\n",
       "41  2011             42334.711210\n",
       "42  2012             42665.255970\n",
       "43  2013             42676.468370\n",
       "44  2014             41039.893600\n",
       "45  2015             35175.188980\n",
       "46  2016             34229.193630"
      ]
     },
     "execution_count": 4,
     "metadata": {},
     "output_type": "execute_result"
    }
   ],
   "source": [
    "df"
   ]
  },
  {
   "cell_type": "code",
   "execution_count": 5,
   "id": "12acb244",
   "metadata": {
    "execution": {
     "iopub.execute_input": "2024-01-23T11:34:36.930357Z",
     "iopub.status.busy": "2024-01-23T11:34:36.929967Z",
     "iopub.status.idle": "2024-01-23T11:34:37.230083Z",
     "shell.execute_reply": "2024-01-23T11:34:37.228930Z"
    },
    "papermill": {
     "duration": 0.313387,
     "end_time": "2024-01-23T11:34:37.232732",
     "exception": false,
     "start_time": "2024-01-23T11:34:36.919345",
     "status": "completed"
    },
    "tags": []
   },
   "outputs": [
    {
     "data": {
      "text/plain": [
       "Text(0, 0.5, 'per capita income (US$)')"
      ]
     },
     "execution_count": 5,
     "metadata": {},
     "output_type": "execute_result"
    },
    {
     "data": {
      "image/png": "[encoded data removed]",
      "text/plain": [
       "<Figure size 640x480 with 1 Axes>"
      ]
     },
     "metadata": {},
     "output_type": "display_data"
    }
   ],
   "source": [
    "plt.scatter(df.year,df[\"per capita income (US$)\"])\n",
    "plt.xlabel('Year')\n",
    "plt.ylabel('per capita income (US$)')"
   ]
  },
  {
   "cell_type": "code",
   "execution_count": 6,
   "id": "60454bab",
   "metadata": {
    "execution": {
     "iopub.execute_input": "2024-01-23T11:34:37.253464Z",
     "iopub.status.busy": "2024-01-23T11:34:37.253080Z",
     "iopub.status.idle": "2024-01-23T11:34:37.263131Z",
     "shell.execute_reply": "2024-01-23T11:34:37.261990Z"
    },
    "papermill": {
     "duration": 0.023588,
     "end_time": "2024-01-23T11:34:37.265533",
     "exception": false,
     "start_time": "2024-01-23T11:34:37.241945",
     "status": "completed"
    },
    "tags": []
   },
   "outputs": [],
   "source": [
    "x=df.iloc[:,:-1]"
   ]
  },
  {
   "cell_type": "code",
   "execution_count": 7,
   "id": "8ce4e358",
   "metadata": {
    "execution": {
     "iopub.execute_input": "2024-01-23T11:34:37.286732Z",
     "iopub.status.busy": "2024-01-23T11:34:37.286331Z",
     "iopub.status.idle": "2024-01-23T11:34:37.297090Z",
     "shell.execute_reply": "2024-01-23T11:34:37.295694Z"
    },
    "papermill": {
     "duration": 0.025232,
     "end_time": "2024-01-23T11:34:37.300335",
     "exception": false,
     "start_time": "2024-01-23T11:34:37.275103",
     "status": "completed"
    },
    "tags": []
   },
   "outputs": [
    {
     "data": {
      "text/html": [
       "<div>\n",
       "<style scoped>\n",
       "    .dataframe tbody tr th:only-of-type {\n",
       "        vertical-align: middle;\n",
       "    }\n",
       "\n",
       "    .dataframe tbody tr th {\n",
       "        vertical-align: top;\n",
       "    }\n",
       "\n",
       "    .dataframe thead th {\n",
       "        text-align: right;\n",
       "    }\n",
       "</style>\n",
       "<table border=\"1\" class=\"dataframe\">\n",
       "  <thead>\n",
       "    <tr style=\"text-align: right;\">\n",
       "      <th></th>\n",
       "      <th>year</th>\n",
       "    </tr>\n",
       "  </thead>\n",
       "  <tbody>\n",
       "    <tr>\n",
       "      <th>0</th>\n",
       "      <td>1970</td>\n",
       "    </tr>\n",
       "    <tr>\n",
       "      <th>1</th>\n",
       "      <td>1971</td>\n",
       "    </tr>\n",
       "    <tr>\n",
       "      <th>2</th>\n",
       "      <td>1972</td>\n",
       "    </tr>\n",
       "    <tr>\n",
       "      <th>3</th>\n",
       "      <td>1973</td>\n",
       "    </tr>\n",
       "    <tr>\n",
       "      <th>4</th>\n",
       "      <td>1974</td>\n",
       "    </tr>\n",
       "  </tbody>\n",
       "</table>\n",
       "</div>"
      ],
      "text/plain": [
       "   year\n",
       "0  1970\n",
       "1  1971\n",
       "2  1972\n",
       "3  1973\n",
       "4  1974"
      ]
     },
     "execution_count": 7,
     "metadata": {},
     "output_type": "execute_result"
    }
   ],
   "source": [
    "x.head()"
   ]
  },
  {
   "cell_type": "code",
   "execution_count": 8,
   "id": "918bfe6f",
   "metadata": {
    "execution": {
     "iopub.execute_input": "2024-01-23T11:34:37.323092Z",
     "iopub.status.busy": "2024-01-23T11:34:37.322675Z",
     "iopub.status.idle": "2024-01-23T11:34:37.328214Z",
     "shell.execute_reply": "2024-01-23T11:34:37.326988Z"
    },
    "papermill": {
     "duration": 0.019297,
     "end_time": "2024-01-23T11:34:37.330790",
     "exception": false,
     "start_time": "2024-01-23T11:34:37.311493",
     "status": "completed"
    },
    "tags": []
   },
   "outputs": [],
   "source": [
    "y=df.iloc[:,-1]"
   ]
  },
  {
   "cell_type": "code",
   "execution_count": 9,
   "id": "95e0ca47",
   "metadata": {
    "execution": {
     "iopub.execute_input": "2024-01-23T11:34:37.353778Z",
     "iopub.status.busy": "2024-01-23T11:34:37.352078Z",
     "iopub.status.idle": "2024-01-23T11:34:37.362434Z",
     "shell.execute_reply": "2024-01-23T11:34:37.360951Z"
    },
    "papermill": {
     "duration": 0.024472,
     "end_time": "2024-01-23T11:34:37.364818",
     "exception": false,
     "start_time": "2024-01-23T11:34:37.340346",
     "status": "completed"
    },
    "tags": []
   },
   "outputs": [
    {
     "data": {
      "text/plain": [
       "0    3399.299037\n",
       "1    3768.297935\n",
       "2    4251.175484\n",
       "3    4804.463248\n",
       "4    5576.514583\n",
       "Name: per capita income (US$), dtype: float64"
      ]
     },
     "execution_count": 9,
     "metadata": {},
     "output_type": "execute_result"
    }
   ],
   "source": [
    "y.head()"
   ]
  },
  {
   "cell_type": "code",
   "execution_count": 10,
   "id": "5a5bebad",
   "metadata": {
    "execution": {
     "iopub.execute_input": "2024-01-23T11:34:37.385671Z",
     "iopub.status.busy": "2024-01-23T11:34:37.385231Z",
     "iopub.status.idle": "2024-01-23T11:34:38.959685Z",
     "shell.execute_reply": "2024-01-23T11:34:38.957886Z"
    },
    "papermill": {
     "duration": 1.588347,
     "end_time": "2024-01-23T11:34:38.962786",
     "exception": false,
     "start_time": "2024-01-23T11:34:37.374439",
     "status": "completed"
    },
    "tags": []
   },
   "outputs": [],
   "source": [
    "from sklearn.model_selection import train_test_split\n",
    "x_train,x_test,y_train,y_test=train_test_split(x,y,test_size=0.25,random_state=1)"
   ]
  },
  {
   "cell_type": "code",
   "execution_count": 11,
   "id": "6f5fc146",
   "metadata": {
    "execution": {
     "iopub.execute_input": "2024-01-23T11:34:38.984614Z",
     "iopub.status.busy": "2024-01-23T11:34:38.984013Z",
     "iopub.status.idle": "2024-01-23T11:34:39.107386Z",
     "shell.execute_reply": "2024-01-23T11:34:39.105780Z"
    },
    "papermill": {
     "duration": 0.138317,
     "end_time": "2024-01-23T11:34:39.110660",
     "exception": false,
     "start_time": "2024-01-23T11:34:38.972343",
     "status": "completed"
    },
    "tags": []
   },
   "outputs": [],
   "source": [
    "from sklearn.linear_model import LinearRegression\n",
    "lr=LinearRegression()"
   ]
  },
  {
   "cell_type": "code",
   "execution_count": 12,
   "id": "5f79fb00",
   "metadata": {
    "execution": {
     "iopub.execute_input": "2024-01-23T11:34:39.132698Z",
     "iopub.status.busy": "2024-01-23T11:34:39.131625Z",
     "iopub.status.idle": "2024-01-23T11:34:39.139552Z",
     "shell.execute_reply": "2024-01-23T11:34:39.137983Z"
    },
    "papermill": {
     "duration": 0.02188,
     "end_time": "2024-01-23T11:34:39.142250",
     "exception": false,
     "start_time": "2024-01-23T11:34:39.120370",
     "status": "completed"
    },
    "tags": []
   },
   "outputs": [
    {
     "name": "stdout",
     "output_type": "stream",
     "text": [
      "(35, 1)\n",
      "(12, 1)\n",
      "(35,)\n",
      "(12,)\n"
     ]
    }
   ],
   "source": [
    "print(x_train.shape)\n",
    "print(x_test.shape)\n",
    "print(y_train.shape)\n",
    "print(y_test.shape)"
   ]
  },
  {
   "cell_type": "code",
   "execution_count": 13,
   "id": "7c4dd2e4",
   "metadata": {
    "execution": {
     "iopub.execute_input": "2024-01-23T11:34:39.164252Z",
     "iopub.status.busy": "2024-01-23T11:34:39.163717Z",
     "iopub.status.idle": "2024-01-23T11:34:39.190061Z",
     "shell.execute_reply": "2024-01-23T11:34:39.188827Z"
    },
    "papermill": {
     "duration": 0.04074,
     "end_time": "2024-01-23T11:34:39.192559",
     "exception": false,
     "start_time": "2024-01-23T11:34:39.151819",
     "status": "completed"
    },
    "tags": []
   },
   "outputs": [
    {
     "data": {
      "text/html": [
       "<style>#sk-container-id-1 {color: black;background-color: white;}#sk-container-id-1 pre{padding: 0;}#sk-container-id-1 div.sk-toggleable {background-color: white;}#sk-container-id-1 label.sk-toggleable__label {cursor: pointer;display: block;width: 100%;margin-bottom: 0;padding: 0.3em;box-sizing: border-box;text-align: center;}#sk-container-id-1 label.sk-toggleable__label-arrow:before {content: \"▸\";float: left;margin-right: 0.25em;color: #696969;}#sk-container-id-1 label.sk-toggleable__label-arrow:hover:before {color: black;}#sk-container-id-1 div.sk-estimator:hover label.sk-toggleable__label-arrow:before {color: black;}#sk-container-id-1 div.sk-toggleable__content {max-height: 0;max-width: 0;overflow: hidden;text-align: left;background-color: #f0f8ff;}#sk-container-id-1 div.sk-toggleable__content pre {margin: 0.2em;color: black;border-radius: 0.25em;background-color: #f0f8ff;}#sk-container-id-1 input.sk-toggleable__control:checked~div.sk-toggleable__content {max-height: 200px;max-width: 100%;overflow: auto;}#sk-container-id-1 input.sk-toggleable__control:checked~label.sk-toggleable__label-arrow:before {content: \"▾\";}#sk-container-id-1 div.sk-estimator input.sk-toggleable__control:checked~label.sk-toggleable__label {background-color: #d4ebff;}#sk-container-id-1 div.sk-label input.sk-toggleable__control:checked~label.sk-toggleable__label {background-color: #d4ebff;}#sk-container-id-1 input.sk-hidden--visually {border: 0;clip: rect(1px 1px 1px 1px);clip: rect(1px, 1px, 1px, 1px);height: 1px;margin: -1px;overflow: hidden;padding: 0;position: absolute;width: 1px;}#sk-container-id-1 div.sk-estimator {font-family: monospace;background-color: #f0f8ff;border: 1px dotted black;border-radius: 0.25em;box-sizing: border-box;margin-bottom: 0.5em;}#sk-container-id-1 div.sk-estimator:hover {background-color: #d4ebff;}#sk-container-id-1 div.sk-parallel-item::after {content: \"\";width: 100%;border-bottom: 1px solid gray;flex-grow: 1;}#sk-container-id-1 div.sk-label:hover label.sk-toggleable__label {background-color: #d4ebff;}#sk-container-id-1 div.sk-serial::before {content: \"\";position: absolute;border-left: 1px solid gray;box-sizing: border-box;top: 0;bottom: 0;left: 50%;z-index: 0;}#sk-container-id-1 div.sk-serial {display: flex;flex-direction: column;align-items: center;background-color: white;padding-right: 0.2em;padding-left: 0.2em;position: relative;}#sk-container-id-1 div.sk-item {position: relative;z-index: 1;}#sk-container-id-1 div.sk-parallel {display: flex;align-items: stretch;justify-content: center;background-color: white;position: relative;}#sk-container-id-1 div.sk-item::before, #sk-container-id-1 div.sk-parallel-item::before {content: \"\";position: absolute;border-left: 1px solid gray;box-sizing: border-box;top: 0;bottom: 0;left: 50%;z-index: -1;}#sk-container-id-1 div.sk-parallel-item {display: flex;flex-direction: column;z-index: 1;position: relative;background-color: white;}#sk-container-id-1 div.sk-parallel-item:first-child::after {align-self: flex-end;width: 50%;}#sk-container-id-1 div.sk-parallel-item:last-child::after {align-self: flex-start;width: 50%;}#sk-container-id-1 div.sk-parallel-item:only-child::after {width: 0;}#sk-container-id-1 div.sk-dashed-wrapped {border: 1px dashed gray;margin: 0 0.4em 0.5em 0.4em;box-sizing: border-box;padding-bottom: 0.4em;background-color: white;}#sk-container-id-1 div.sk-label label {font-family: monospace;font-weight: bold;display: inline-block;line-height: 1.2em;}#sk-container-id-1 div.sk-label-container {text-align: center;}#sk-container-id-1 div.sk-container {/* jupyter's `normalize.less` sets `[hidden] { display: none; }` but bootstrap.min.css set `[hidden] { display: none !important; }` so we also need the `!important` here to be able to override the default hidden behavior on the sphinx rendered scikit-learn.org. See: https://github.com/scikit-learn/scikit-learn/issues/21755 */display: inline-block !important;position: relative;}#sk-container-id-1 div.sk-text-repr-fallback {display: none;}</style><div id=\"sk-container-id-1\" class=\"sk-top-container\"><div class=\"sk-text-repr-fallback\"><pre>LinearRegression()</pre><b>In a Jupyter environment, please rerun this cell to show the HTML representation or trust the notebook. <br />On GitHub, the HTML representation is unable to render, please try loading this page with nbviewer.org.</b></div><div class=\"sk-container\" hidden><div class=\"sk-item\"><div class=\"sk-estimator sk-toggleable\"><input class=\"sk-toggleable__control sk-hidden--visually\" id=\"sk-estimator-id-1\" type=\"checkbox\" checked><label for=\"sk-estimator-id-1\" class=\"sk-toggleable__label sk-toggleable__label-arrow\">LinearRegression</label><div class=\"sk-toggleable__content\"><pre>LinearRegression()</pre></div></div></div></div></div>"
      ],
      "text/plain": [
       "LinearRegression()"
      ]
     },
     "execution_count": 13,
     "metadata": {},
     "output_type": "execute_result"
    }
   ],
   "source": [
    "lr.fit(x_train,y_train)"
   ]
  },
  {
   "cell_type": "code",
   "execution_count": 14,
   "id": "78d4b7b0",
   "metadata": {
    "execution": {
     "iopub.execute_input": "2024-01-23T11:34:39.214632Z",
     "iopub.status.busy": "2024-01-23T11:34:39.213864Z",
     "iopub.status.idle": "2024-01-23T11:34:39.218760Z",
     "shell.execute_reply": "2024-01-23T11:34:39.217990Z"
    },
    "papermill": {
     "duration": 0.018569,
     "end_time": "2024-01-23T11:34:39.221063",
     "exception": false,
     "start_time": "2024-01-23T11:34:39.202494",
     "status": "completed"
    },
    "tags": []
   },
   "outputs": [],
   "source": [
    "m=lr.coef_"
   ]
  },
  {
   "cell_type": "code",
   "execution_count": 15,
   "id": "be82b7e2",
   "metadata": {
    "execution": {
     "iopub.execute_input": "2024-01-23T11:34:39.242826Z",
     "iopub.status.busy": "2024-01-23T11:34:39.242054Z",
     "iopub.status.idle": "2024-01-23T11:34:39.246875Z",
     "shell.execute_reply": "2024-01-23T11:34:39.246112Z"
    },
    "papermill": {
     "duration": 0.01844,
     "end_time": "2024-01-23T11:34:39.249256",
     "exception": false,
     "start_time": "2024-01-23T11:34:39.230816",
     "status": "completed"
    },
    "tags": []
   },
   "outputs": [],
   "source": [
    "c=lr.intercept_"
   ]
  },
  {
   "cell_type": "code",
   "execution_count": 16,
   "id": "9223ab78",
   "metadata": {
    "execution": {
     "iopub.execute_input": "2024-01-23T11:34:39.271726Z",
     "iopub.status.busy": "2024-01-23T11:34:39.271109Z",
     "iopub.status.idle": "2024-01-23T11:34:39.278509Z",
     "shell.execute_reply": "2024-01-23T11:34:39.277397Z"
    },
    "papermill": {
     "duration": 0.022422,
     "end_time": "2024-01-23T11:34:39.281397",
     "exception": false,
     "start_time": "2024-01-23T11:34:39.258975",
     "status": "completed"
    },
    "tags": []
   },
   "outputs": [],
   "source": [
    "y_pred=lr.predict(x_test)"
   ]
  },
  {
   "cell_type": "code",
   "execution_count": 17,
   "id": "e2f1bcef",
   "metadata": {
    "execution": {
     "iopub.execute_input": "2024-01-23T11:34:39.304827Z",
     "iopub.status.busy": "2024-01-23T11:34:39.304200Z",
     "iopub.status.idle": "2024-01-23T11:34:39.310850Z",
     "shell.execute_reply": "2024-01-23T11:34:39.309181Z"
    },
    "papermill": {
     "duration": 0.021406,
     "end_time": "2024-01-23T11:34:39.313487",
     "exception": false,
     "start_time": "2024-01-23T11:34:39.292081",
     "status": "completed"
    },
    "tags": []
   },
   "outputs": [],
   "source": [
    "from sklearn.metrics import r2_score,mean_squared_error"
   ]
  },
  {
   "cell_type": "code",
   "execution_count": 18,
   "id": "5e3f92d2",
   "metadata": {
    "execution": {
     "iopub.execute_input": "2024-01-23T11:34:39.335975Z",
     "iopub.status.busy": "2024-01-23T11:34:39.335210Z",
     "iopub.status.idle": "2024-01-23T11:34:39.347411Z",
     "shell.execute_reply": "2024-01-23T11:34:39.345445Z"
    },
    "papermill": {
     "duration": 0.026608,
     "end_time": "2024-01-23T11:34:39.350024",
     "exception": false,
     "start_time": "2024-01-23T11:34:39.323416",
     "status": "completed"
    },
    "tags": []
   },
   "outputs": [
    {
     "name": "stdout",
     "output_type": "stream",
     "text": [
      "R2 score:  0.8326731993898341\n",
      "MSE:  16449291.422073923\n"
     ]
    }
   ],
   "source": [
    "print(\"R2 score: \",r2_score(y_test,y_pred))\n",
    "print(\"MSE: \",mean_squared_error(y_test,y_pred))"
   ]
  },
  {
   "cell_type": "code",
   "execution_count": 19,
   "id": "1ce9aebf",
   "metadata": {
    "execution": {
     "iopub.execute_input": "2024-01-23T11:34:39.375376Z",
     "iopub.status.busy": "2024-01-23T11:34:39.373842Z",
     "iopub.status.idle": "2024-01-23T11:34:39.385040Z",
     "shell.execute_reply": "2024-01-23T11:34:39.383491Z"
    },
    "papermill": {
     "duration": 0.027275,
     "end_time": "2024-01-23T11:34:39.388051",
     "exception": false,
     "start_time": "2024-01-23T11:34:39.360776",
     "status": "completed"
    },
    "tags": []
   },
   "outputs": [],
   "source": [
    "x_predict=lr.predict(x_train)"
   ]
  },
  {
   "cell_type": "code",
   "execution_count": null,
   "id": "19bc576d",
   "metadata": {
    "papermill": {
     "duration": 0.009796,
     "end_time": "2024-01-23T11:34:39.408249",
     "exception": false,
     "start_time": "2024-01-23T11:34:39.398453",
     "status": "completed"
    },
    "tags": []
   },
   "outputs": [],
   "source": []
  },
  {
   "cell_type": "code",
   "execution_count": 20,
   "id": "eb503cfd",
   "metadata": {
    "execution": {
     "iopub.execute_input": "2024-01-23T11:34:39.431713Z",
     "iopub.status.busy": "2024-01-23T11:34:39.431215Z",
     "iopub.status.idle": "2024-01-23T11:34:39.438341Z",
     "shell.execute_reply": "2024-01-23T11:34:39.437059Z"
    },
    "papermill": {
     "duration": 0.021821,
     "end_time": "2024-01-23T11:34:39.441004",
     "exception": false,
     "start_time": "2024-01-23T11:34:39.419183",
     "status": "completed"
    },
    "tags": []
   },
   "outputs": [],
   "source": [
    "new_df = pd.DataFrame({\"year\": x_train['year'].values, \"Actual\": y_train, \"Predicted\": x_predict})\n"
   ]
  },
  {
   "cell_type": "code",
   "execution_count": 21,
   "id": "94d0ab79",
   "metadata": {
    "execution": {
     "iopub.execute_input": "2024-01-23T11:34:39.463247Z",
     "iopub.status.busy": "2024-01-23T11:34:39.462737Z",
     "iopub.status.idle": "2024-01-23T11:34:39.482626Z",
     "shell.execute_reply": "2024-01-23T11:34:39.481164Z"
    },
    "papermill": {
     "duration": 0.034611,
     "end_time": "2024-01-23T11:34:39.485570",
     "exception": false,
     "start_time": "2024-01-23T11:34:39.450959",
     "status": "completed"
    },
    "tags": []
   },
   "outputs": [
    {
     "data": {
      "text/html": [
       "<div>\n",
       "<style scoped>\n",
       "    .dataframe tbody tr th:only-of-type {\n",
       "        vertical-align: middle;\n",
       "    }\n",
       "\n",
       "    .dataframe tbody tr th {\n",
       "        vertical-align: top;\n",
       "    }\n",
       "\n",
       "    .dataframe thead th {\n",
       "        text-align: right;\n",
       "    }\n",
       "</style>\n",
       "<table border=\"1\" class=\"dataframe\">\n",
       "  <thead>\n",
       "    <tr style=\"text-align: right;\">\n",
       "      <th></th>\n",
       "      <th>year</th>\n",
       "      <th>Actual</th>\n",
       "      <th>Predicted</th>\n",
       "    </tr>\n",
       "  </thead>\n",
       "  <tbody>\n",
       "    <tr>\n",
       "      <th>46</th>\n",
       "      <td>2016</td>\n",
       "      <td>34229.193630</td>\n",
       "      <td>39286.260973</td>\n",
       "    </tr>\n",
       "    <tr>\n",
       "      <th>33</th>\n",
       "      <td>2003</td>\n",
       "      <td>22739.426280</td>\n",
       "      <td>28051.499124</td>\n",
       "    </tr>\n",
       "    <tr>\n",
       "      <th>23</th>\n",
       "      <td>1993</td>\n",
       "      <td>15875.586730</td>\n",
       "      <td>19409.374624</td>\n",
       "    </tr>\n",
       "    <tr>\n",
       "      <th>34</th>\n",
       "      <td>2004</td>\n",
       "      <td>25719.147150</td>\n",
       "      <td>28915.711574</td>\n",
       "    </tr>\n",
       "    <tr>\n",
       "      <th>27</th>\n",
       "      <td>1997</td>\n",
       "      <td>17310.757750</td>\n",
       "      <td>22866.224424</td>\n",
       "    </tr>\n",
       "    <tr>\n",
       "      <th>21</th>\n",
       "      <td>1991</td>\n",
       "      <td>17266.097690</td>\n",
       "      <td>17680.949724</td>\n",
       "    </tr>\n",
       "    <tr>\n",
       "      <th>13</th>\n",
       "      <td>1983</td>\n",
       "      <td>10416.536590</td>\n",
       "      <td>10767.250124</td>\n",
       "    </tr>\n",
       "    <tr>\n",
       "      <th>38</th>\n",
       "      <td>2008</td>\n",
       "      <td>37446.486090</td>\n",
       "      <td>32372.561373</td>\n",
       "    </tr>\n",
       "    <tr>\n",
       "      <th>17</th>\n",
       "      <td>1987</td>\n",
       "      <td>12974.806620</td>\n",
       "      <td>14224.099924</td>\n",
       "    </tr>\n",
       "    <tr>\n",
       "      <th>42</th>\n",
       "      <td>2012</td>\n",
       "      <td>42665.255970</td>\n",
       "      <td>35829.411173</td>\n",
       "    </tr>\n",
       "    <tr>\n",
       "      <th>4</th>\n",
       "      <td>1974</td>\n",
       "      <td>5576.514583</td>\n",
       "      <td>2989.338075</td>\n",
       "    </tr>\n",
       "    <tr>\n",
       "      <th>28</th>\n",
       "      <td>1998</td>\n",
       "      <td>16622.671870</td>\n",
       "      <td>23730.436874</td>\n",
       "    </tr>\n",
       "    <tr>\n",
       "      <th>14</th>\n",
       "      <td>1984</td>\n",
       "      <td>10790.328720</td>\n",
       "      <td>11631.462574</td>\n",
       "    </tr>\n",
       "    <tr>\n",
       "      <th>10</th>\n",
       "      <td>1980</td>\n",
       "      <td>8355.968120</td>\n",
       "      <td>8174.612774</td>\n",
       "    </tr>\n",
       "    <tr>\n",
       "      <th>41</th>\n",
       "      <td>2011</td>\n",
       "      <td>42334.711210</td>\n",
       "      <td>34965.198723</td>\n",
       "    </tr>\n",
       "    <tr>\n",
       "      <th>30</th>\n",
       "      <td>2000</td>\n",
       "      <td>18987.382410</td>\n",
       "      <td>25458.861774</td>\n",
       "    </tr>\n",
       "    <tr>\n",
       "      <th>31</th>\n",
       "      <td>2001</td>\n",
       "      <td>18601.397240</td>\n",
       "      <td>26323.074224</td>\n",
       "    </tr>\n",
       "    <tr>\n",
       "      <th>40</th>\n",
       "      <td>2010</td>\n",
       "      <td>38420.522890</td>\n",
       "      <td>34100.986273</td>\n",
       "    </tr>\n",
       "    <tr>\n",
       "      <th>20</th>\n",
       "      <td>1990</td>\n",
       "      <td>16838.673200</td>\n",
       "      <td>16816.737274</td>\n",
       "    </tr>\n",
       "    <tr>\n",
       "      <th>18</th>\n",
       "      <td>1988</td>\n",
       "      <td>15080.283450</td>\n",
       "      <td>15088.312374</td>\n",
       "    </tr>\n",
       "    <tr>\n",
       "      <th>25</th>\n",
       "      <td>1995</td>\n",
       "      <td>16369.317250</td>\n",
       "      <td>21137.799524</td>\n",
       "    </tr>\n",
       "    <tr>\n",
       "      <th>6</th>\n",
       "      <td>1976</td>\n",
       "      <td>7062.131392</td>\n",
       "      <td>4717.762974</td>\n",
       "    </tr>\n",
       "    <tr>\n",
       "      <th>7</th>\n",
       "      <td>1977</td>\n",
       "      <td>7100.126170</td>\n",
       "      <td>5581.975424</td>\n",
       "    </tr>\n",
       "    <tr>\n",
       "      <th>44</th>\n",
       "      <td>2014</td>\n",
       "      <td>41039.893600</td>\n",
       "      <td>37557.836073</td>\n",
       "    </tr>\n",
       "    <tr>\n",
       "      <th>1</th>\n",
       "      <td>1971</td>\n",
       "      <td>3768.297935</td>\n",
       "      <td>396.700725</td>\n",
       "    </tr>\n",
       "    <tr>\n",
       "      <th>16</th>\n",
       "      <td>1986</td>\n",
       "      <td>11482.891530</td>\n",
       "      <td>13359.887474</td>\n",
       "    </tr>\n",
       "    <tr>\n",
       "      <th>0</th>\n",
       "      <td>1970</td>\n",
       "      <td>3399.299037</td>\n",
       "      <td>-467.511725</td>\n",
       "    </tr>\n",
       "    <tr>\n",
       "      <th>15</th>\n",
       "      <td>1985</td>\n",
       "      <td>11018.955850</td>\n",
       "      <td>12495.675024</td>\n",
       "    </tr>\n",
       "    <tr>\n",
       "      <th>5</th>\n",
       "      <td>1975</td>\n",
       "      <td>5998.144346</td>\n",
       "      <td>3853.550525</td>\n",
       "    </tr>\n",
       "    <tr>\n",
       "      <th>11</th>\n",
       "      <td>1981</td>\n",
       "      <td>9434.390652</td>\n",
       "      <td>9038.825224</td>\n",
       "    </tr>\n",
       "    <tr>\n",
       "      <th>9</th>\n",
       "      <td>1979</td>\n",
       "      <td>7602.912681</td>\n",
       "      <td>7310.400324</td>\n",
       "    </tr>\n",
       "    <tr>\n",
       "      <th>8</th>\n",
       "      <td>1978</td>\n",
       "      <td>7247.967035</td>\n",
       "      <td>6446.187874</td>\n",
       "    </tr>\n",
       "    <tr>\n",
       "      <th>12</th>\n",
       "      <td>1982</td>\n",
       "      <td>9619.438377</td>\n",
       "      <td>9903.037674</td>\n",
       "    </tr>\n",
       "    <tr>\n",
       "      <th>43</th>\n",
       "      <td>2013</td>\n",
       "      <td>42676.468370</td>\n",
       "      <td>36693.623623</td>\n",
       "    </tr>\n",
       "    <tr>\n",
       "      <th>37</th>\n",
       "      <td>2007</td>\n",
       "      <td>36144.481220</td>\n",
       "      <td>31508.348923</td>\n",
       "    </tr>\n",
       "  </tbody>\n",
       "</table>\n",
       "</div>"
      ],
      "text/plain": [
       "    year        Actual     Predicted\n",
       "46  2016  34229.193630  39286.260973\n",
       "33  2003  22739.426280  28051.499124\n",
       "23  1993  15875.586730  19409.374624\n",
       "34  2004  25719.147150  28915.711574\n",
       "27  1997  17310.757750  22866.224424\n",
       "21  1991  17266.097690  17680.949724\n",
       "13  1983  10416.536590  10767.250124\n",
       "38  2008  37446.486090  32372.561373\n",
       "17  1987  12974.806620  14224.099924\n",
       "42  2012  42665.255970  35829.411173\n",
       "4   1974   5576.514583   2989.338075\n",
       "28  1998  16622.671870  23730.436874\n",
       "14  1984  10790.328720  11631.462574\n",
       "10  1980   8355.968120   8174.612774\n",
       "41  2011  42334.711210  34965.198723\n",
       "30  2000  18987.382410  25458.861774\n",
       "31  2001  18601.397240  26323.074224\n",
       "40  2010  38420.522890  34100.986273\n",
       "20  1990  16838.673200  16816.737274\n",
       "18  1988  15080.283450  15088.312374\n",
       "25  1995  16369.317250  21137.799524\n",
       "6   1976   7062.131392   4717.762974\n",
       "7   1977   7100.126170   5581.975424\n",
       "44  2014  41039.893600  37557.836073\n",
       "1   1971   3768.297935    396.700725\n",
       "16  1986  11482.891530  13359.887474\n",
       "0   1970   3399.299037   -467.511725\n",
       "15  1985  11018.955850  12495.675024\n",
       "5   1975   5998.144346   3853.550525\n",
       "11  1981   9434.390652   9038.825224\n",
       "9   1979   7602.912681   7310.400324\n",
       "8   1978   7247.967035   6446.187874\n",
       "12  1982   9619.438377   9903.037674\n",
       "43  2013  42676.468370  36693.623623\n",
       "37  2007  36144.481220  31508.348923"
      ]
     },
     "execution_count": 21,
     "metadata": {},
     "output_type": "execute_result"
    }
   ],
   "source": [
    "new_df"
   ]
  },
  {
   "cell_type": "code",
   "execution_count": 22,
   "id": "665ec9e7",
   "metadata": {
    "execution": {
     "iopub.execute_input": "2024-01-23T11:34:39.509562Z",
     "iopub.status.busy": "2024-01-23T11:34:39.509038Z",
     "iopub.status.idle": "2024-01-23T11:34:39.517455Z",
     "shell.execute_reply": "2024-01-23T11:34:39.516108Z"
    },
    "papermill": {
     "duration": 0.023362,
     "end_time": "2024-01-23T11:34:39.519952",
     "exception": false,
     "start_time": "2024-01-23T11:34:39.496590",
     "status": "completed"
    },
    "tags": []
   },
   "outputs": [
    {
     "data": {
      "text/plain": [
       "array([42743.11077297])"
      ]
     },
     "execution_count": 22,
     "metadata": {},
     "output_type": "execute_result"
    }
   ],
   "source": [
    "m*2020+c"
   ]
  }
 ],
 "metadata": {
  "kaggle": {
   "accelerator": "none",
   "dataSources": [
    {
     "datasetId": 2922589,
     "sourceId": 5035514,
     "sourceType": "datasetVersion"
    }
   ],
   "dockerImageVersionId": 30635,
   "isGpuEnabled": false,
   "isInternetEnabled": false,
   "language": "python",
   "sourceType": "notebook"
  },
  "kernelspec": {
   "display_name": "Python 3",
   "language": "python",
   "name": "python3"
  },
  "language_info": {
   "codemirror_mode": {
    "name": "ipython",
    "version": 3
   },
   "file_extension": ".py",
   "mimetype": "text/x-python",
   "name": "python",
   "nbconvert_exporter": "python",
   "pygments_lexer": "ipython3",
   "version": "3.10.12"
  },
  "papermill": {
   "default_parameters": {},
   "duration": 7.506915,
   "end_time": "2024-01-23T11:34:40.254343",
   "environment_variables": {},
   "exception": null,
   "input_path": "__notebook__.ipynb",
   "output_path": "__notebook__.ipynb",
   "parameters": {},
   "start_time": "2024-01-23T11:34:32.747428",
   "version": "2.4.0"
  }
 },
 "nbformat": 4,
 "nbformat_minor": 5
}
